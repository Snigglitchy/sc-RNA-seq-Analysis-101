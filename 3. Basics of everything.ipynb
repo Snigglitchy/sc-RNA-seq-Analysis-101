{
 "cells": [
  {
   "cell_type": "markdown",
   "metadata": {},
   "source": [
    "# Introduction to R and RStudio for scRNA-seq Analysis FOR NOOBS\n",
    "\n",
    "Welcome Noobs, we will learn about R and RStudio! This notebook is designed for absolute beginners who want to learn R in the context of single-cell RNA sequencing (scRNA-seq) analysis. By the end of this notebook, you'll be familiar with the basics of R, including functions, operators, and data structures, which will help you analyze scRNA-seq data in the future.\n",
    "\n",
    "---\n",
    "\n",
    "## What is R?\n",
    "\n",
    "R is a programming language and environment specifically designed for statistical computing and data visualization. It is widely used in bioinformatics, including scRNA-seq analysis, because of its powerful packages and flexibility.\n",
    "\n",
    "---\n",
    "\n",
    "## What is RStudio?\n",
    "\n",
    "RStudio is an Integrated Development Environment (IDE) for R. It makes working with R easier by providing a user-friendly interface, debugging tools, and integration with version control systems like Git.\n",
    "\n",
    "---\n",
    "\n",
    "## Let's Get Started!\n",
    "\n",
    "### 1. Basic Arithmetic Operations\n",
    "\n",
    "R can be used as a calculator. Let's try some basic arithmetic operations."
   ]
  },
  {
   "cell_type": "code",
   "execution_count": null,
   "metadata": {},
   "outputs": [],
   "source": [
    "# Addition\n",
    "2 + 3\n",
    "\n",
    "# Subtraction\n",
    "5 - 2\n",
    "\n",
    "# Multiplication\n",
    "4 * 3\n",
    "\n",
    "# Division\n",
    "10 / 2\n",
    "\n",
    "# Exponentiation\n",
    "2 ^ 3"
   ]
  },
  {
   "cell_type": "markdown",
   "metadata": {},
   "source": [
    "---\n",
    "\n",
    "### 2. Variables and Data Types\n",
    "\n",
    "In R, you can store values in variables. Variables can hold different types of data, such as numbers, text, or logical values."
   ]
  },
  {
   "cell_type": "code",
   "execution_count": null,
   "metadata": {},
   "outputs": [],
   "source": [
    "# Numeric variable\n",
    "x <- 10\n",
    "x\n",
    "\n",
    "# Character variable\n",
    "gene_name <- \"TP53\"\n",
    "gene_name\n",
    "\n",
    "# Logical variable\n",
    "is_expressed <- TRUE\n",
    "is_expressed"
   ]
  },
  {
   "cell_type": "markdown",
   "metadata": {},
   "source": [
    "---\n",
    "\n",
    "### 3. Vectors\n",
    "\n",
    "A vector is a collection of elements of the same type. Vectors are fundamental in R and are often used to store gene expression values."
   ]
  },
  {
   "cell_type": "code",
   "execution_count": null,
   "metadata": {},
   "outputs": [],
   "source": [
    "# Create a numeric vector\n",
    "expression_values <- c(10, 20, 30, 40, 50)\n",
    "expression_values\n",
    "\n",
    "# Access elements of a vector\n",
    "expression_values[1]  # First element\n",
    "expression_values[3]  # Third element\n",
    "\n",
    "# Basic operations on vectors\n",
    "mean(expression_values)  # Calculate the mean\n",
    "sum(expression_values)   # Calculate the sum"
   ]
  },
  {
   "cell_type": "markdown",
   "metadata": {},
   "source": [
    "---\n",
    "\n",
    "### 4. Data Frames\n",
    "\n",
    "A data frame is a table-like structure where each column can be of a different type. In scRNA-seq, data frames are often used to store gene expression matrices."
   ]
  },
  {
   "cell_type": "code",
   "execution_count": null,
   "metadata": {},
   "outputs": [],
   "source": [
    "# Create a data frame\n",
    "gene_expression <- data.frame(\n",
    "  Gene = c(\"TP53\", \"BRCA1\", \"EGFR\"),\n",
    "  Sample1 = c(10, 20, 30),\n",
    "  Sample2 = c(15, 25, 35)\n",
    ")\n",
    "gene_expression\n",
    "\n",
    "# Access columns\n",
    "gene_expression$Gene\n",
    "gene_expression$Sample1\n",
    "\n",
    "# Access rows\n",
    "gene_expression[1, ]  # First row\n",
    "gene_expression[2, ]  # Second row"
   ]
  },
  {
   "cell_type": "markdown",
   "metadata": {},
   "source": [
    "---\n",
    "\n",
    "### 5. Functions\n",
    "\n",
    "Functions are reusable blocks of code that perform specific tasks. R has many built-in functions, and you can also create your own."
   ]
  },
  {
   "cell_type": "code",
   "execution_count": null,
   "metadata": {},
   "outputs": [],
   "source": [
    "# Built-in function: calculate the log of a number\n",
    "log(10)\n",
    "\n",
    "# User-defined function: calculate the mean of a vector\n",
    "calculate_mean <- function(values) {\n",
    "  mean(values)\n",
    "}\n",
    "calculate_mean(expression_values)"
   ]
  },
  {
   "cell_type": "markdown",
   "metadata": {},
   "source": [
    "---\n",
    "\n",
    "### 6. Operators\n",
    "\n",
    "Operators are symbols that perform operations on variables and values. Here are some common ones:"
   ]
  },
  {
   "cell_type": "code",
   "execution_count": null,
   "metadata": {},
   "outputs": [],
   "source": [
    "# Arithmetic operators\n",
    "2 + 3\n",
    "5 - 2\n",
    "4 * 3\n",
    "10 / 2\n",
    "\n",
    "# Comparison operators\n",
    "2 > 3\n",
    "5 == 5\n",
    "4 != 3\n",
    "\n",
    "# Logical operators\n",
    "TRUE & FALSE\n",
    "TRUE | FALSE\n",
    "!TRUE"
   ]
  },
  {
   "cell_type": "markdown",
   "metadata": {},
   "source": [
    "---\n",
    "\n",
    "### 7. Loading Packages\n",
    "\n",
    "R packages extend the functionality of R. For scRNA-seq analysis, you'll use packages like `Seurat`, `SingleCellExperiment`, and `tidyverse`."
   ]
  },
  {
   "cell_type": "code",
   "execution_count": null,
   "metadata": {},
   "outputs": [],
   "source": [
    "# Install a package (only need to do this once)\n",
    "install.packages(\"tidyverse\")\n",
    "\n",
    "# Load a package\n",
    "library(tidyverse)"
   ]
  },
  {
   "cell_type": "markdown",
   "metadata": {},
   "source": [
    "---\n",
    "\n",
    "### 8. Next Steps\n",
    "\n",
    "Now that you're familiar with the basics of R, you're ready to dive into scRNA-seq analysis! In the next notebook, we'll explore how to load and preprocess scRNA-seq data using R.\n",
    "\n",
    "---\n",
    "\n",
    "## Conclusion Bestie!\n",
    "\n",
    "Congratulations! You've learned the basics of R and RStudio at least theoretically. You now know how to perform arithmetic operations, work with variables, vectors, and data frames, use functions and operators, and load packages. These skills will be essential as you progress to analyzing scRNA-seq data.\n",
    "\n",
    "Let's go to Practice the Basics now!"
   ]
  }
 ],
 "metadata": {
  "kernelspec": {
   "display_name": "R",
   "language": "R",
   "name": "ir"
  },
  "language_info": {
   "codemirror_mode": "r",
   "file_extension": ".r",
   "mimetype": "text/x-r-source",
   "name": "R",
   "pygments_lexer": "r",
   "version": "4.1.2"
  }
 },
 "nbformat": 4,
 "nbformat_minor": 4
}
