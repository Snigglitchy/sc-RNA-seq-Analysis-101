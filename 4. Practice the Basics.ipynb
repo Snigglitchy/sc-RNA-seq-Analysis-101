{
 "cells": [
  {
   "cell_type": "markdown",
   "metadata": {},
   "source": [
    "# Practice Notebook: R Basics for scRNA-seq Analysis\n",
    "\n",
    "Welcome to the practice notebook! Here, you'll apply everything you learned in the previous notebook. Each section includes exercises to test your understanding of R basics. Try to solve the problems on your own, and then check the solutions provided.\n",
    "\n",
    "Let's get started!"
   ]
  },
  {
   "cell_type": "markdown",
   "metadata": {},
   "source": [
    "---\n",
    "\n",
    "## 1. Basic Arithmetic Operations\n",
    "\n",
    "**Exercise 1:** Calculate the following:\n",
    "- The sum of 15 and 27.\n",
    "- The product of 8 and 9.\n",
    "- The result of 100 divided by 25.\n",
    "- The value of 2 raised to the power of 10.\n",
    "\n",
    "Write your code in the cell below."
   ]
  },
  {
   "cell_type": "code",
   "execution_count": null,
   "metadata": {},
   "outputs": [],
   "source": [
    "# Your code here"
   ]
  },
  {
   "cell_type": "markdown",
   "metadata": {},
   "source": [
    "**Solution:**"
   ]
  },
  {
   "cell_type": "code",
   "execution_count": null,
   "metadata": {},
   "outputs": [],
   "source": [
    "15 + 27\n",
    "8 * 9\n",
    "100 / 25\n",
    "2 ^ 10"
   ]
  },
  {
   "cell_type": "markdown",
   "metadata": {},
   "source": [
    "---\n",
    "\n",
    "## 2. Variables and Data Types\n",
    "\n",
    "**Exercise 2:**\n",
    "- Create a variable called `gene_count` and assign it the value 250.\n",
    "- Create a variable called `gene_name` and assign it the value \"CD4\".\n",
    "- Create a variable called `is_expressed` and assign it the value `TRUE`.\n",
    "\n",
    "Print all three variables."
   ]
  },
  {
   "cell_type": "code",
   "execution_count": null,
   "metadata": {},
   "outputs": [],
   "source": [
    "# Your code here"
   ]
  },
  {
   "cell_type": "markdown",
   "metadata": {},
   "source": [
    "**Solution:**"
   ]
  },
  {
   "cell_type": "code",
   "execution_count": null,
   "metadata": {},
   "outputs": [],
   "source": [
    "gene_count <- 250\n",
    "gene_name <- \"CD4\"\n",
    "is_expressed <- TRUE\n",
    "\n",
    "gene_count\n",
    "gene_name\n",
    "is_expressed"
   ]
  },
  {
   "cell_type": "markdown",
   "metadata": {},
   "source": [
    "---\n",
    "\n",
    "## 3. Vectors\n",
    "\n",
    "**Exercise 3:**\n",
    "- Create a numeric vector called `expression_values` with the values 5, 10, 15, 20, and 25.\n",
    "- Calculate the mean of the vector.\n",
    "- Access the third element of the vector.\n",
    "\n",
    "Write your code in the cell below."
   ]
  },
  {
   "cell_type": "code",
   "execution_count": null,
   "metadata": {},
   "outputs": [],
   "source": [
    "# Your code here"
   ]
  },
  {
   "cell_type": "markdown",
   "metadata": {},
   "source": [
    "**Solution:**"
   ]
  },
  {
   "cell_type": "code",
   "execution_count": null,
   "metadata": {},
   "outputs": [],
   "source": [
    "expression_values <- c(5, 10, 15, 20, 25)\n",
    "mean(expression_values)\n",
    "expression_values[3]"
   ]
  },
  {
   "cell_type": "markdown",
   "metadata": {},
   "source": [
    "---\n",
    "\n",
    "## 4. Data Frames\n",
    "\n",
    "**Exercise 4:**\n",
    "- Create a data frame called `gene_expression` with the following data:\n",
    "  - Column 1: `Gene` with values \"TP53\", \"BRCA1\", \"EGFR\".\n",
    "  - Column 2: `Sample1` with values 10, 20, 30.\n",
    "  - Column 3: `Sample2` with values 15, 25, 35.\n",
    "- Access the `Sample1` column.\n",
    "- Access the second row of the data frame.\n",
    "\n",
    "Write your code in the cell below."
   ]
  },
  {
   "cell_type": "code",
   "execution_count": null,
   "metadata": {},
   "outputs": [],
   "source": [
    "# Your code here"
   ]
  },
  {
   "cell_type": "markdown",
   "metadata": {},
   "source": [
    "**Solution:**"
   ]
  },
  {
   "cell_type": "code",
   "execution_count": null,
   "metadata": {},
   "outputs": [],
   "source": [
    "gene_expression <- data.frame(\n",
    "  Gene = c(\"TP53\", \"BRCA1\", \"EGFR\"),\n",
    "  Sample1 = c(10, 20, 30),\n",
    "  Sample2 = c(15, 25, 35)\n",
    ")\n",
    "\n",
    "gene_expression$Sample1\n",
    "gene_expression[2, ]"
   ]
  },
  {
   "cell_type": "markdown",
   "metadata": {},
   "source": [
    "---\n",
    "\n",
    "## 5. Functions\n",
    "\n",
    "**Exercise 5:**\n",
    "- Write a function called `calculate_sum` that takes a numeric vector as input and returns the sum of its elements.\n",
    "- Test your function with the vector `c(2, 4, 6, 8, 10)`.\n",
    "\n",
    "Write your code in the cell below."
   ]
  },
  {
   "cell_type": "code",
   "execution_count": null,
   "metadata": {},
   "outputs": [],
   "source": [
    "# Your code here"
   ]
  },
  {
   "cell_type": "markdown",
   "metadata": {},
   "source": [
    "**Solution:**"
   ]
  },
  {
   "cell_type": "code",
   "execution_count": null,
   "metadata": {},
   "outputs": [],
   "source": [
    "calculate_sum <- function(values) {\n",
    "  sum(values)\n",
    "}\n",
    "\n",
    "calculate_sum(c(2, 4, 6, 8, 10))"
   ]
  },
  {
   "cell_type": "markdown",
   "metadata": {},
   "source": [
    "---\n",
    "\n",
    "## 6. Operators\n",
    "\n",
    "**Exercise 6:**\n",
    "- Check if 10 is greater than 5.\n",
    "- Check if 20 is equal to 20.\n",
    "- Check if 15 is not equal to 20.\n",
    "- Use the logical AND operator to check if both `TRUE` and `FALSE` are true.\n",
    "\n",
    "Write your code in the cell below."
   ]
  },
  {
   "cell_type": "code",
   "execution_count": null,
   "metadata": {},
   "outputs": [],
   "source": [
    "# Your code here"
   ]
  },
  {
   "cell_type": "markdown",
   "metadata": {},
   "source": [
    "**Solution:**"
   ]
  },
  {
   "cell_type": "code",
   "execution_count": null,
   "metadata": {},
   "outputs": [],
   "source": [
    "10 > 5\n",
    "20 == 20\n",
    "15 != 20\n",
    "TRUE & FALSE"
   ]
  },
  {
   "cell_type": "markdown",
   "metadata": {},
   "source": [
    "---\n",
    "\n",
    "## 7. Loading Packages\n",
    "\n",
    "**Exercise 7:**\n",
    "- Install and load the `tidyverse` package.\n",
    "- Check if the package is loaded by running the command `sessionInfo()`.\n",
    "\n",
    "Write your code in the cell below."
   ]
  },
  {
   "cell_type": "code",
   "execution_count": null,
   "metadata": {},
   "outputs": [],
   "source": [
    "# Your code here"
   ]
  },
  {
   "cell_type": "markdown",
   "metadata": {},
   "source": [
    "**Solution:**"
   ]
  },
  {
   "cell_type": "code",
   "execution_count": null,
   "metadata": {},
   "outputs": [],
   "source": [
    "install.packages(\"tidyverse\")\n",
    "library(tidyverse)\n",
    "sessionInfo()"
   ]
  },
  {
   "cell_type": "markdown",
   "metadata": {},
   "source": [
    "---\n",
    "\n",
    "## Conclusion\n",
    "\n",
    "Great job! You've practiced the basics of R, including arithmetic operations, variables, vectors, data frames, functions, operators, and loading packages. These skills will be essential as you progress to analyzing scRNA-seq data.\n",
    "\n",
    "Keep practicing, and happy coding!"
   ]
  }
 ],
 "metadata": {
  "kernelspec": {
   "display_name": "R",
   "language": "R",
   "name": "ir"
  },
  "language_info": {
   "codemirror_mode": "r",
   "file_extension": ".r",
   "mimetype": "text/x-r-source",
   "name": "R",
   "pygments_lexer": "r",
   "version": "4.1.2"
  }
 },
 "nbformat": 4,
 "nbformat_minor": 4
}
