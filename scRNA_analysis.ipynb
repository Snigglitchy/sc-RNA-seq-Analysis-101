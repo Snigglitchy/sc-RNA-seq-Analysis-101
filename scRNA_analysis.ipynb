{
 "cells": [
  {
   "cell_type": "markdown",
   "metadata": {},
   "source": [
    "# 🧬 Single-Cell RNA Analysis for Noobs 😵‍💫\n",
    "**Analyzing scRNA-seq data step-by-step using Seurat in R**\n",
    "\n",
    "🚀 *Dataset: PBMC 3k from 10X Genomics* [(Download here)](https://cf.10xgenomics.com/samples/cell-exp/3.0.0/pbmc3k/pbmc3k_filtered_gene_bc_matrices.tar.gz)"
   ]
  },
  {
   "cell_type": "code",
   "execution_count": null,
   "metadata": {},
   "outputs": [],
   "source": [
    "# 📌 Step 1: Install & Load Required Packages\n",
    "install.packages(\"Seurat\")\n",
    "install.packages(\"dplyr\")\n",
    "install.packages(\"patchwork\")\n",
    "library(Seurat)\n",
    "library(dplyr)\n",
    "library(patchwork)"
   ]
  },
  {
   "cell_type": "markdown",
   "metadata": {},
   "source": [
    "## 📌 Step 2: Load the PBMC Dataset\n",
    "This dataset contains 3,000 Peripheral Blood Mononuclear Cells (PBMCs) from a healthy donor."
   ]
  },
  {
   "cell_type": "code",
   "execution_count": null,
   "metadata": {},
   "outputs": [],
   "source": [
    "# Download and extract dataset\n",
    "url <- \"https://cf.10xgenomics.com/samples/cell-exp/3.0.0/pbmc3k/pbmc3k_filtered_gene_bc_matrices.tar.gz\"\n",
    "download.file(url, destfile = \"pbmc3k_filtered_gene_bc_matrices.tar.gz\")\n",
    "untar(\"pbmc3k_filtered_gene_bc_matrices.tar.gz\")\n",
    "\n",
    "# Load data into Seurat\n",
    "pbmc.data <- Read10X(data.dir = \"filtered_gene_bc_matrices/hg19/\")\n",
    "pbmc <- CreateSeuratObject(counts = pbmc.data, project = \"PBMC3K\", min.cells = 3, min.features = 200)\n",
    "pbmc"
   ]
  },
  {
   "cell_type": "markdown",
   "metadata": {},
   "source": [
    "## 📌 Step 3: Preprocessing the Data\n",
    "We filter out low-quality cells and normalize the data."
   ]
  },
  {
   "cell_type": "code",
   "execution_count": null,
   "metadata": {},
   "outputs": [],
   "source": [
    "# Quality control\n",
    "pbmc[['percent.mt']] <- PercentageFeatureSet(pbmc, pattern = \"^MT-\")\n",
    "pbmc <- subset(pbmc, subset = nFeature_RNA > 200 & nFeature_RNA < 2500 & percent.mt < 5)\n",
    "\n",
    "# Normalize data\n",
    "pbmc <- NormalizeData(pbmc, normalization.method = \"LogNormalize\", scale.factor = 10000)\n",
    "\n",
    "# Identify highly variable genes\n",
    "pbmc <- FindVariableFeatures(pbmc, selection.method = \"vst\", nfeatures = 2000)\n",
    "\n",
    "# Scale data\n",
    "pbmc <- ScaleData(pbmc)"
   ]
  },
  {
   "cell_type": "markdown",
   "metadata": {},
   "source": [
    "## 📌 Step 4: Principal Component Analysis (PCA)"
   ]
  },
  {
   "cell_type": "code",
   "execution_count": null,
   "metadata": {},
   "outputs": [],
   "source": [
    "pbmc <- RunPCA(pbmc, features = VariableFeatures(object = pbmc))\n",
    "DimPlot(pbmc, reduction = \"pca\")"
   ]
  },
  {
   "cell_type": "markdown",
   "metadata": {},
   "source": [
    "## 📌 Step 5: Clustering & UMAP Visualization"
   ]
  },
  {
   "cell_type": "code",
   "execution_count": null,
   "metadata": {},
   "outputs": [],
   "source": [
    "# Find neighbors and clusters\n",
    "pbmc <- FindNeighbors(pbmc, dims = 1:10)\n",
    "pbmc <- FindClusters(pbmc, resolution = 0.5)\n",
    "\n",
    "# Run UMAP for visualization\n",
    "pbmc <- RunUMAP(pbmc, dims = 1:10)\n",
    "DimPlot(pbmc, reduction = \"umap\", label = TRUE)"
   ]
  },
  {
   "cell_type": "markdown",
   "metadata": {},
   "source": [
    "## 📌 Step 6: Find Marker Genes\n",
    "Identify differentially expressed genes for each cluster."
   ]
  },
  {
   "cell_type": "code",
   "execution_count": null,
   "metadata": {},
   "outputs": [],
   "source": [
    "cluster.markers <- FindAllMarkers(pbmc, only.pos = TRUE, min.pct = 0.25, logfc.threshold = 0.25)\n",
    "head(cluster.markers)"
   ]
  },
  {
   "cell_type": "markdown",
   "metadata": {},
   "source": [
    "## 🎯 Final Thoughts\n",
    "Congratulations! 🎉 You’ve just completed your first scRNA-seq analysis using Seurat! 🚀\n",
    "\n",
    "- Want to explore more? Check out the full Seurat tutorial: [Seurat Website](https://satijalab.org/seurat/)\n",
    "- If something breaks, **Google it first**, then open an issue here!\n",
    "\n",
    "Now go forth and analyze like a pro! 😉"
   ]
  }
 ],
 "metadata": {
  "kernelspec": {
   "display_name": "R",
   "language": "R",
   "name": "ir"
  },
  "language_info": {
   "codemirror_mode": "r",
   "file_extension": ".r",
   "mimetype": "text/x-r-source",
   "name": "R",
   "pygments_lexer": "r",
   "version": ""
  }
 },
 "nbformat": 4,
 "nbformat_minor": 4
}
