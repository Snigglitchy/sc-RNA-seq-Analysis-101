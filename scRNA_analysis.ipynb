# 🧑‍💻 R and RStudio Basics for scRNA-seq Data Analysis

Welcome to this **R and RStudio** basics guide designed for **absolute beginners**! Whether you're completely new to programming or just new to R, this notebook will take you step-by-step, starting with the fundamentals, so you can eventually analyze scRNA-seq data like a pro!

---

## 📘 Why Learn R?

R is a programming language used for statistical computing and data analysis. It is especially useful in bioinformatics and genomics. We'll learn how to use R for tasks like analyzing gene expression data from **single-cell RNA sequencing (scRNA-seq)**. If you're familiar with Excel or other data tools, R will give you much more control and flexibility over your analyses.

---

## 🖥️ What is RStudio?

**RStudio** is an Integrated Development Environment (IDE) for R. It’s a tool that makes writing and running R code easier. When you open RStudio, you'll see:

- **Console**: Where you type and run commands.
- **Script Editor**: Where you can write and save your R code.
- **Environment**: Displays your active variables and datasets.
- **Files/Plots/Help/Viewer**: Access files, view plots, read documentation, and more.

---

## 🔢 Basic Concepts in R

Let’s dive into the first R concepts: **variables**, **functions**, and **operators**. We’ll start with a few simple tasks.

### Variables

Variables are used to store data in R. You can think of them as labeled containers where you store information like numbers or text.

```r
# Assign a number to a variable
my_number <- 10

# Assign a text string to a variable
my_text <- "Hello, R!"

# Print the values of variables
print(my_number)
print(my_text)
```

