# 🧑‍💻 R and RStudio Basics for scRNA-seq Data Analysis

# Welcome to this **R and RStudio** basics guide for **absolute beginners**! 
# In this notebook, we'll start from the very basics and work towards using R for **scRNA-seq analysis**.

# 📝 What You Will Learn:
# 1. Assigning values to variables
# 2. Creating vectors
# 3. Importing data
# 4. Subsetting data
# 5. Plotting data

# ------------------------

# 📘 Why Learn R?

# R is a programming language used for statistical computing and data analysis, especially useful for bioinformatics and genomics.
# We will use R to analyze gene expression data from **single-cell RNA sequencing (scRNA-seq)**.

# 🖥️ What is RStudio?

# **RStudio** is an Integrated Development Environment (IDE) for R.
# It makes writing and running R code much easier. It contains:

# - **Console**: Where you type and execute your commands.
# - **Script Editor**: For writing and saving your code.
# - **Environment**: Displays the active variables and datasets.
# - **Files/Plots/Help/Viewer**: Access files, generate plots, read documentation, and more.

# ------------------------

# 🔢 Basic Concepts in R

# ### Variables

# Variables are used to store data. They act as containers for numbers, text, or other data.

# Assign a number to a variable
my_number <- 10

# Assign a text string to a variable
my_text <- "Hello, R!"

# Print the values of these variables
print(my_number)  # prints the value of the variable my_number
print(my_text)    # prints the value of the variable my_text

# ------------------------

# ### Vectors

# A **vector** is a sequence of elements (all of the same type, such as numbers or text).
# In R, we use the combine function `c()` to create vectors.

# Create a numeric vector
my_vector <- c(1, 2, 3, 4, 5)

# Create a character vector
my_char_vector <- c("apple", "banana", "cherry")

# Print the vectors
print(my_vector)      # prints the numeric vector
print(my_char_vector) # prints the character vector

# ------------------------

# 📊 Importing Data into R

# To analyze data, we first need to import it into R. Let’s load data from a **CSV file**.

# Import data from a CSV file
data <- read.csv("path_to_your_file.csv")

# View the first few rows of the dataset
head(data)

# ------------------------

# 🔍 Subsetting Data

# Subsetting allows you to select specific rows or columns from your data based on a condition.

# Subset data to get rows where the 'Gene' column is equal to "GeneX"
subset_data <- subset(data, Gene == "GeneX")

# View the subset data
head(subset_data)

# ------------------------

# 📊 Plotting Data

# Visualizing data is crucial. Let’s create a **scatter plot** using the `ggplot2` package.

# Install ggplot2 (only do this once)
install.packages("ggplot2")

# Load the ggplot2 package
library(ggplot2)

# Create a scatter plot of Gene vs. Expression
ggplot(data, aes(x = Gene, y = Expression)) +
  geom_point() # Adds points to the scatter plot

# ------------------------

# 🚀 What's Next?

# Now that you've learned the basics of R, you can start working with more complex scRNA-seq data. 
# Here’s what we’ll explore in upcoming sections:
# - Data cleaning and preparation for scRNA-seq analysis.
# - Dimensionality reduction techniques like PCA and UMAP.
# - Clustering cells based on gene expression.
# - Advanced visualizations for scRNA-seq data.

# Stay tuned for more! 🌟

