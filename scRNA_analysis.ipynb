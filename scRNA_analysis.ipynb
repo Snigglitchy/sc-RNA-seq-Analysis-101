{
 "cells": [
  {
   "cell_type": "markdown",
   "metadata": {},
   "source": [
    "# Single-Cell RNA Analysis for Noobs\n",
    "**Analyzing scRNA-seq data step-by-step using Seurat in R**\n",
    "\n",
    " *Dataset: PBMC dataset from GEO - GSE120219*\n",
    "\n",
    "Let's dive into some single-cell RNA sequencing analysis using the PBMC dataset from GEO!"
   ]
  },
  {
   "cell_type": "code",
   "execution_count": null,
   "metadata": {},
   "outputs": [],
   "source": [
    "# Step 1: Install & Load Required Packages\n",
    "install.packages(\"Seurat\")\n",
    "install.packages(\"dplyr\")\n",
    "install.packages(\"patchwork\")\n",
    "install.packages(\"GEOquery\")\n",
    "library(Seurat)\n",
    "library(dplyr)\n",
    "library(patchwork)\n",
    "library(GEOquery)"
   ]
  },
  {
   "cell_type": "markdown",
   "metadata": {},
   "source": [
    "## Step 2: Load the PBMC Dataset\n",
    "This dataset contains PBMCs from healthy individuals.\n",
    "\n",
    "### We’ll load the data directly from GEO."
   ]
  },
  {
   "cell_type": "code",
   "execution_count": null,
   "metadata": {},
   "outputs": [],
   "source": [
    "# Step 2: Load the PBMC Dataset\n",
    "gse <- getGEO(\"GSE120219\", GSEMatrix = TRUE)\n",
    "pbmc_data <- exprs(gse[[1]])\n",
    "pbmc_metadata <- pData(gse[[1]])\n",
    "head(pbmc_data)\n",
    "head(pbmc_metadata)"
   ]
  },
  {
   "cell_type": "markdown",
   "metadata": {},
   "source": [
    "## Step 3: Preprocessing the Data\n",
    "We filter out low-quality cells and normalize the data."
   ]
  },
  {
   "cell_type": "code",
   "execution_count": null,
   "metadata": {},
   "outputs": [],
   "source": [
    "# Convert the data into a Seurat object\n",
    "pbmc <- CreateSeuratObject(counts = pbmc_data, meta.data = pbmc_metadata)\n",
    "\n",
    "# Quality control\n",
    "pbmc[['percent.mt']] <- PercentageFeatureSet(pbmc, pattern = \"^MT-\")\n",
    "pbmc <- subset(pbmc, subset = nFeature_RNA > 200 & nFeature_RNA < 2500 & percent.mt < 5)\n",
    "\n",
    "# Normalize data\n",
    "pbmc <- NormalizeData(pbmc, normalization.method = \"LogNormalize\", scale.factor = 10000)\n",
    "\n",
    "# Identify highly variable genes\n",
    "pbmc <- FindVariableFeatures(pbmc, selection.method = \"vst\", nfeatures = 2000)\n",
    "\n",
    "# Scale data\n",
    "pbmc <- ScaleData(pbmc)"
   ]
  },
  {
   "cell_type": "markdown",
   "metadata": {},
   "source": [
    "## Step 4: Principal Component Analysis (PCA)\n",
    "Let’s reduce the dimensionality of the data."
   ]
  },
  {
   "cell_type": "code",
   "execution_count": null,
   "metadata": {},
   "outputs": [],
   "source": [
    "pbmc <- RunPCA(pbmc, features = VariableFeatures(object = pbmc))\n",
    "DimPlot(pbmc, reduction = \"pca\")"
   ]
  },
  {
   "cell_type": "markdown",
   "metadata": {},
   "source": [
    "## Step 5: Clustering & UMAP Visualization\n",
    "Now, let’s cluster the cells and visualize them in a UMAP plot."
   ]
  },
  {
   "cell_type": "code",
   "execution_count": null,
   "metadata": {},
   "outputs": [],
   "source": [
    "# Find neighbors and clusters\n",
    "pbmc <- FindNeighbors(pbmc, dims = 1:10)\n",
    "pbmc <- FindClusters(pbmc, resolution = 0.5)\n",
    "\n",
    "# Run UMAP for visualization\n",
    "pbmc <- RunUMAP(pbmc, dims = 1:10)\n",
    "DimPlot(pbmc, reduction = \"umap\", label = TRUE)"
   ]
  },
  {
   "cell_type": "markdown",
   "metadata": {},
   "source": [
    "## Step 6: Find Marker Genes\n",
    "Identify differentially expressed genes for each cluster."
   ]
  },
  {
   "cell_type": "code",
   "execution_count": null,
   "metadata": {},
   "outputs": [],
   "source": [
    "cluster.markers <- FindAllMarkers(pbmc, only.pos = TRUE, min.pct = 0.25, logfc.threshold = 0.25)\n",
    "head(cluster.markers)"
   ]
  },
  {
   "cell_type": "markdown",
   "metadata": {},
   "source": [
    "## Yo, finally\n",
    "Congratulations bestie!  You’ve just completed your first scRNA-seq analysis using Seurat!\n",
    "\n",
    "- Want to explore more? Check out the full Seurat tutorial: [Seurat Website](https://satijalab.org/seurat/)\n",
    "- If something breaks, **Google it first**, then open an issue here!\n",
    "\n",
    "Now go forth and analyze like a pro! "
   ]
  }
 ],
 "metadata": {
  "kernelspec": {
   "display_name": "R",
   "language": "R",
   "name": "ir"
  },
  "language_info": {
   "codemirror_mode": "r",
   "file_extension": ".r",
   "mimetype": "text/x-r-source",
   "name": "R",
   "pygments_lexer": "r",
   "version": ""
  }
 },
 "nbformat": 4,
 "nbformat_minor": 4
}
